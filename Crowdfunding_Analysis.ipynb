{
 "cells": [
  {
   "cell_type": "code",
   "execution_count": 1,
   "metadata": {},
   "outputs": [],
   "source": [
    "# Import the dependencies.\n",
    "# Mandatory\n",
    "from sqlalchemy import create_engine, text, inspect\n",
    "\n",
    "# ORM imports - for classes\n",
    "from sqlalchemy.ext.automap import automap_base\n",
    "from sqlalchemy import create_engine, func, case\n",
    "from sqlalchemy.orm import Session\n",
    "from sqlalchemy.ext.declarative import declarative_base\n",
    "\n",
    "#data science\n",
    "import pandas as pd\n",
    "import matplotlib.pyplot as plt\n",
    "import seaborn as sns\n",
    "\n",
    "# Other imports\n",
    "import datetime as dt\n",
    "\n",
    "# Import DB credentials\n",
    "import config as cfg"
   ]
  },
  {
   "cell_type": "markdown",
   "metadata": {},
   "source": [
    "## Connecting to Postgres"
   ]
  },
  {
   "cell_type": "code",
   "execution_count": 2,
   "metadata": {},
   "outputs": [],
   "source": [
    "# Setup the SQL connection variables\n",
    "SQL_USERNAME = cfg.SQL_USERNAME\n",
    "SQL_PASSWORD = cfg.SQL_PASSWORD\n",
    "SQL_IP = cfg.SQL_IP\n",
    "SQL_PORT = cfg.SQL_PORT\n",
    "DATABASE = cfg.DATABASE"
   ]
  },
  {
   "cell_type": "code",
   "execution_count": 3,
   "metadata": {},
   "outputs": [],
   "source": [
    "# Connect to PostgreSQL server\n",
    "connection_string = f'postgresql+psycopg2://{SQL_USERNAME}:{SQL_PASSWORD}@{SQL_IP}:{SQL_PORT}/{DATABASE}'\n",
    "engine = create_engine(connection_string)"
   ]
  },
  {
   "cell_type": "code",
   "execution_count": 4,
   "metadata": {},
   "outputs": [
    {
     "name": "stdout",
     "output_type": "stream",
     "text": [
      "contact\n",
      "contact_id INTEGER\n",
      "first_name VARCHAR(30)\n",
      "last_name VARCHAR(30)\n",
      "email VARCHAR(50)\n",
      "last_update TIMESTAMP\n",
      "\n",
      "campaign\n",
      "funding_id INTEGER\n",
      "contact_id INTEGER\n",
      "company_name VARCHAR(50)\n",
      "description VARCHAR(75)\n",
      "goal NUMERIC\n",
      "pledged NUMERIC\n",
      "outcome VARCHAR(10)\n",
      "backers_count INTEGER\n",
      "country VARCHAR(2)\n",
      "currency VARCHAR(3)\n",
      "launched_date TIMESTAMP\n",
      "end_date TIMESTAMP\n",
      "staff_pick BOOLEAN\n",
      "spotlight BOOLEAN\n",
      "category_id VARCHAR(10)\n",
      "subcategory_id VARCHAR(12)\n",
      "last_update TIMESTAMP\n",
      "\n",
      "category\n",
      "category_id VARCHAR(10)\n",
      "category VARCHAR(50)\n",
      "last_update TIMESTAMP\n",
      "\n",
      "subcategory\n",
      "subcategory_id VARCHAR(12)\n",
      "subcategory VARCHAR(50)\n",
      "last_update TIMESTAMP\n",
      "\n"
     ]
    }
   ],
   "source": [
    "# explore and understand the data\n",
    "\n",
    "# Create the inspector and connect it to the engine\n",
    "inspector = inspect(engine)\n",
    "\n",
    "# Collect the names of tables within the database\n",
    "tables = inspector.get_table_names()\n",
    "\n",
    "# Using the inspector to print the column names within each table and its types\n",
    "for table in tables:\n",
    "    print(table)\n",
    "    columns = inspector.get_columns(table)\n",
    "    for column in columns:\n",
    "        print(column[\"name\"], column[\"type\"])\n",
    "        \n",
    "    print()"
   ]
  },
  {
   "cell_type": "code",
   "execution_count": 5,
   "metadata": {},
   "outputs": [
    {
     "name": "stdout",
     "output_type": "stream",
     "text": [
      "[<class 'sqlalchemy.ext.automap.campaign'>, <class 'sqlalchemy.ext.automap.subcategory'>, <class 'sqlalchemy.ext.automap.contact'>, <class 'sqlalchemy.ext.automap.category'>]\n"
     ]
    }
   ],
   "source": [
    "# Declare a Base using `automap_base()`\n",
    "Base = automap_base()\n",
    "\n",
    "# Use the Base class to reflect the database tables\n",
    "Base.prepare(autoload_with=engine)\n",
    "\n",
    "# Print all of the classes mapped to the Base\n",
    "print(list(Base.classes))"
   ]
  },
  {
   "cell_type": "code",
   "execution_count": 6,
   "metadata": {},
   "outputs": [],
   "source": [
    "# THIS IS ORM STUFF TO DEFINE CLASSES\n",
    "\n",
    "# Assign the classes to variables\n",
    "# documentation from https://docs.sqlalchemy.org/en/14/orm/extensions/automap.html - Reference Basic Use\n",
    "Contact = Base.classes.contact\n",
    "Campaign = Base.classes.campaign\n",
    "Category = Base.classes.category\n",
    "Subcategory = Base.classes.subcategory\n",
    "\n",
    "# Create a session\n",
    "session = Session(engine)"
   ]
  },
  {
   "cell_type": "markdown",
   "metadata": {},
   "source": [
    "## Single DataFrame combining all 4 tables (contacts, campaigns, categories and subcategories)"
   ]
  },
  {
   "cell_type": "markdown",
   "metadata": {},
   "source": [
    "#### Method 1: SQL Statement"
   ]
  },
  {
   "cell_type": "code",
   "execution_count": 7,
   "metadata": {},
   "outputs": [
    {
     "data": {
      "text/html": [
       "<div>\n",
       "<style scoped>\n",
       "    .dataframe tbody tr th:only-of-type {\n",
       "        vertical-align: middle;\n",
       "    }\n",
       "\n",
       "    .dataframe tbody tr th {\n",
       "        vertical-align: top;\n",
       "    }\n",
       "\n",
       "    .dataframe thead th {\n",
       "        text-align: right;\n",
       "    }\n",
       "</style>\n",
       "<table border=\"1\" class=\"dataframe\">\n",
       "  <thead>\n",
       "    <tr style=\"text-align: right;\">\n",
       "      <th></th>\n",
       "      <th>first_name</th>\n",
       "      <th>last_name</th>\n",
       "      <th>email</th>\n",
       "      <th>company_name</th>\n",
       "      <th>description</th>\n",
       "      <th>goal</th>\n",
       "      <th>pledged</th>\n",
       "      <th>outcome</th>\n",
       "      <th>backers_count</th>\n",
       "      <th>country</th>\n",
       "      <th>currency</th>\n",
       "      <th>launched_date</th>\n",
       "      <th>end_date</th>\n",
       "      <th>staff_pick</th>\n",
       "      <th>spotlight</th>\n",
       "      <th>category</th>\n",
       "      <th>subcategory</th>\n",
       "    </tr>\n",
       "  </thead>\n",
       "  <tbody>\n",
       "  </tbody>\n",
       "</table>\n",
       "</div>"
      ],
      "text/plain": [
       "Empty DataFrame\n",
       "Columns: [first_name, last_name, email, company_name, description, goal, pledged, outcome, backers_count, country, currency, launched_date, end_date, staff_pick, spotlight, category, subcategory]\n",
       "Index: []"
      ]
     },
     "execution_count": 7,
     "metadata": {},
     "output_type": "execute_result"
    }
   ],
   "source": [
    "query = \"\"\"\n",
    "\t\tSELECT\n",
    "\t\t\tcont.first_name,\n",
    "\t\t\tcont.last_name,\n",
    "\t\t\tcont.email,\n",
    "\t\t\tcamp.company_name,\n",
    "\t\t\tcamp.description,\n",
    "\t\t\tcamp.goal,\n",
    "\t\t\tcamp.pledged,\n",
    "\t\t\tcamp.outcome,\n",
    "\t\t\tcamp.backers_count,\n",
    "\t\t\tcamp.country,\n",
    "\t\t\tcamp.currency,\n",
    "\t\t\tcamp.launched_date,\n",
    "\t\t\tcamp.end_date,\n",
    "\t\t\tcamp.staff_pick,\n",
    "\t\t\tcamp.spotlight,\n",
    "\t\t\tcat.category,\n",
    "\t\t\tsub.subcategory\n",
    "\t\tFROM\n",
    "\t\t\tpublic.contact cont\n",
    "\t\tINNER JOIN public.campaign camp\n",
    "\t\t\tON cont.contact_id = camp.contact_id\n",
    "\t\tINNER JOIN public.category cat\n",
    "\t\t\tON camp.category_id = cat.category_id\n",
    "\t\tINNER JOIN public.subcategory sub\n",
    "\t\t\tON camp.subcategory_id = sub.subcategory_id\n",
    "\t\t;\n",
    "\t\t\"\"\"\n",
    "\n",
    "full_data_sql_df = pd.read_sql(text(query), con=engine)\n",
    "full_data_sql_df.head()"
   ]
  },
  {
   "cell_type": "markdown",
   "metadata": {},
   "source": [
    "#### Method 2: ORM"
   ]
  },
  {
   "cell_type": "code",
   "execution_count": 8,
   "metadata": {},
   "outputs": [
    {
     "data": {
      "text/html": [
       "<div>\n",
       "<style scoped>\n",
       "    .dataframe tbody tr th:only-of-type {\n",
       "        vertical-align: middle;\n",
       "    }\n",
       "\n",
       "    .dataframe tbody tr th {\n",
       "        vertical-align: top;\n",
       "    }\n",
       "\n",
       "    .dataframe thead th {\n",
       "        text-align: right;\n",
       "    }\n",
       "</style>\n",
       "<table border=\"1\" class=\"dataframe\">\n",
       "  <thead>\n",
       "    <tr style=\"text-align: right;\">\n",
       "      <th></th>\n",
       "      <th>first_name</th>\n",
       "      <th>last_name</th>\n",
       "      <th>email</th>\n",
       "      <th>company_name</th>\n",
       "      <th>description</th>\n",
       "      <th>goal</th>\n",
       "      <th>pledged</th>\n",
       "      <th>outcome</th>\n",
       "      <th>backers_count</th>\n",
       "      <th>country</th>\n",
       "      <th>currency</th>\n",
       "      <th>launched_date</th>\n",
       "      <th>end_date</th>\n",
       "      <th>staff_pick</th>\n",
       "      <th>spotlight</th>\n",
       "      <th>category</th>\n",
       "      <th>subcategory</th>\n",
       "    </tr>\n",
       "  </thead>\n",
       "  <tbody>\n",
       "  </tbody>\n",
       "</table>\n",
       "</div>"
      ],
      "text/plain": [
       "Empty DataFrame\n",
       "Columns: [first_name, last_name, email, company_name, description, goal, pledged, outcome, backers_count, country, currency, launched_date, end_date, staff_pick, spotlight, category, subcategory]\n",
       "Index: []"
      ]
     },
     "execution_count": 8,
     "metadata": {},
     "output_type": "execute_result"
    }
   ],
   "source": [
    "results = session.query(\n",
    "    Contact.first_name,\n",
    "    Contact.last_name,\n",
    "    Contact.email,\n",
    "    Campaign.company_name,\n",
    "    Campaign.description,\n",
    "    Campaign.goal,\n",
    "    Campaign.pledged,\n",
    "    Campaign.outcome,\n",
    "    Campaign.backers_count,\n",
    "    Campaign.country,\n",
    "    Campaign.currency,\n",
    "    Campaign.launched_date,\n",
    "    Campaign.end_date,\n",
    "    Campaign.staff_pick,\n",
    "    Campaign.spotlight,\n",
    "    Category.category,\n",
    "    Subcategory.subcategory\n",
    ").join(\n",
    "    Campaign, Contact.contact_id == Campaign.contact_id\n",
    ").join(\n",
    "    Category, Campaign.category_id == Category.category_id\n",
    ").join(\n",
    "    Subcategory, Campaign.subcategory_id == Subcategory.subcategory_id\n",
    ").all()\n",
    "\n",
    "# Convert results to a pandas DataFrame\n",
    "full_data_orm_df = pd.DataFrame(results, columns=[\n",
    "    'first_name', 'last_name', 'email', 'company_name', 'description', 'goal', 'pledged', \n",
    "    'outcome', 'backers_count', 'country', 'currency', 'launched_date', 'end_date', \n",
    "    'staff_pick', 'spotlight', 'category', 'subcategory'\n",
    "])\n",
    "\n",
    "# Display the DataFrame\n",
    "full_data_orm_df.head()"
   ]
  },
  {
   "cell_type": "markdown",
   "metadata": {},
   "source": [
    "## staff picks or spotlight that reached their funding goal"
   ]
  },
  {
   "cell_type": "markdown",
   "metadata": {},
   "source": [
    "#### Method 1: SQL Statement"
   ]
  },
  {
   "cell_type": "code",
   "execution_count": 9,
   "metadata": {},
   "outputs": [
    {
     "data": {
      "text/html": [
       "<div>\n",
       "<style scoped>\n",
       "    .dataframe tbody tr th:only-of-type {\n",
       "        vertical-align: middle;\n",
       "    }\n",
       "\n",
       "    .dataframe tbody tr th {\n",
       "        vertical-align: top;\n",
       "    }\n",
       "\n",
       "    .dataframe thead th {\n",
       "        text-align: right;\n",
       "    }\n",
       "</style>\n",
       "<table border=\"1\" class=\"dataframe\">\n",
       "  <thead>\n",
       "    <tr style=\"text-align: right;\">\n",
       "      <th></th>\n",
       "      <th>first_name</th>\n",
       "      <th>last_name</th>\n",
       "      <th>email</th>\n",
       "      <th>company_name</th>\n",
       "      <th>description</th>\n",
       "      <th>goal</th>\n",
       "      <th>pledged</th>\n",
       "      <th>outcome</th>\n",
       "      <th>backers_count</th>\n",
       "      <th>country</th>\n",
       "      <th>currency</th>\n",
       "      <th>launched_date</th>\n",
       "      <th>end_date</th>\n",
       "      <th>staff_pick</th>\n",
       "      <th>spotlight</th>\n",
       "      <th>category</th>\n",
       "      <th>subcategory</th>\n",
       "    </tr>\n",
       "  </thead>\n",
       "  <tbody>\n",
       "  </tbody>\n",
       "</table>\n",
       "</div>"
      ],
      "text/plain": [
       "Empty DataFrame\n",
       "Columns: [first_name, last_name, email, company_name, description, goal, pledged, outcome, backers_count, country, currency, launched_date, end_date, staff_pick, spotlight, category, subcategory]\n",
       "Index: []"
      ]
     },
     "execution_count": 9,
     "metadata": {},
     "output_type": "execute_result"
    }
   ],
   "source": [
    "query = \"\"\"\n",
    "\t\tSELECT\n",
    "\t\t\tcont.first_name,\n",
    "\t\t\tcont.last_name,\n",
    "\t\t\tcont.email,\n",
    "\t\t\tcamp.company_name,\n",
    "\t\t\tcamp.description,\n",
    "\t\t\tcamp.goal,\n",
    "\t\t\tcamp.pledged,\n",
    "\t\t\tcamp.outcome,\n",
    "\t\t\tcamp.backers_count,\n",
    "\t\t\tcamp.country,\n",
    "\t\t\tcamp.currency,\n",
    "\t\t\tcamp.launched_date,\n",
    "\t\t\tcamp.end_date,\n",
    "\t\t\tcamp.staff_pick,\n",
    "\t\t\tcamp.spotlight,\n",
    "\t\t\tcat.category,\n",
    "\t\t\tsub.subcategory\n",
    "\t\tFROM\n",
    "\t\t\tpublic.contact cont\n",
    "\t\tINNER JOIN public.campaign camp\n",
    "\t\t\tON cont.contact_id = camp.contact_id\n",
    "\t\tINNER JOIN public.category cat\n",
    "\t\t\tON camp.category_id = cat.category_id\n",
    "\t\tINNER JOIN public.subcategory sub\n",
    "\t\t\tON camp.subcategory_id = sub.subcategory_id\n",
    "        WHERE\n",
    "            (staff_pick = TRUE OR spotlight = TRUE)\n",
    "            AND pledged >= goal\n",
    "\t\t;\n",
    "\t\t\"\"\"\n",
    "\n",
    "reached_goal_sql_df = pd.read_sql(text(query), con=engine)\n",
    "reached_goal_sql_df.head()"
   ]
  },
  {
   "cell_type": "markdown",
   "metadata": {},
   "source": [
    "#### Method 2: ORM"
   ]
  },
  {
   "cell_type": "code",
   "execution_count": 10,
   "metadata": {},
   "outputs": [
    {
     "data": {
      "text/html": [
       "<div>\n",
       "<style scoped>\n",
       "    .dataframe tbody tr th:only-of-type {\n",
       "        vertical-align: middle;\n",
       "    }\n",
       "\n",
       "    .dataframe tbody tr th {\n",
       "        vertical-align: top;\n",
       "    }\n",
       "\n",
       "    .dataframe thead th {\n",
       "        text-align: right;\n",
       "    }\n",
       "</style>\n",
       "<table border=\"1\" class=\"dataframe\">\n",
       "  <thead>\n",
       "    <tr style=\"text-align: right;\">\n",
       "      <th></th>\n",
       "      <th>first_name</th>\n",
       "      <th>last_name</th>\n",
       "      <th>email</th>\n",
       "      <th>company_name</th>\n",
       "      <th>description</th>\n",
       "      <th>goal</th>\n",
       "      <th>pledged</th>\n",
       "      <th>outcome</th>\n",
       "      <th>backers_count</th>\n",
       "      <th>country</th>\n",
       "      <th>currency</th>\n",
       "      <th>launched_date</th>\n",
       "      <th>end_date</th>\n",
       "      <th>staff_pick</th>\n",
       "      <th>spotlight</th>\n",
       "      <th>category</th>\n",
       "      <th>subcategory</th>\n",
       "    </tr>\n",
       "  </thead>\n",
       "  <tbody>\n",
       "  </tbody>\n",
       "</table>\n",
       "</div>"
      ],
      "text/plain": [
       "Empty DataFrame\n",
       "Columns: [first_name, last_name, email, company_name, description, goal, pledged, outcome, backers_count, country, currency, launched_date, end_date, staff_pick, spotlight, category, subcategory]\n",
       "Index: []"
      ]
     },
     "execution_count": 10,
     "metadata": {},
     "output_type": "execute_result"
    }
   ],
   "source": [
    "# ORM to get all campaigns that have been staff picked or are in the spotlight and have reached their goal\n",
    "results = session.query(\n",
    "    Contact.first_name,\n",
    "    Contact.last_name,\n",
    "    Contact.email,\n",
    "    Campaign.company_name,\n",
    "    Campaign.description,\n",
    "    Campaign.goal,\n",
    "    Campaign.pledged,\n",
    "    Campaign.outcome,\n",
    "    Campaign.backers_count,\n",
    "    Campaign.country,\n",
    "    Campaign.currency,\n",
    "    Campaign.launched_date,\n",
    "    Campaign.end_date,\n",
    "    Campaign.staff_pick,\n",
    "    Campaign.spotlight,\n",
    "    Category.category,\n",
    "    Subcategory.subcategory\n",
    ").join(\n",
    "    Campaign, Contact.contact_id == Campaign.contact_id\n",
    ").join(\n",
    "    Category, Campaign.category_id == Category.category_id\n",
    ").join(\n",
    "    Subcategory, Campaign.subcategory_id == Subcategory.subcategory_id\n",
    ").filter(\n",
    "    (Campaign.staff_pick == True) | (Campaign.spotlight == True),\n",
    "    Campaign.pledged >= Campaign.goal\n",
    ").all()\n",
    "\n",
    "# Convert results to a pandas DataFrame\n",
    "reached_goal_orm_df = pd.DataFrame(results, columns=[\n",
    "    'first_name', 'last_name', 'email', 'company_name', 'description', 'goal', 'pledged', \n",
    "    'outcome', 'backers_count', 'country', 'currency', 'launched_date', 'end_date', \n",
    "    'staff_pick', 'spotlight', 'category', 'subcategory'\n",
    "])\n",
    "\n",
    "# Display the DataFrame\n",
    "reached_goal_orm_df.head()"
   ]
  },
  {
   "cell_type": "markdown",
   "metadata": {},
   "source": [
    "## Count of categories by outcome"
   ]
  },
  {
   "cell_type": "markdown",
   "metadata": {},
   "source": [
    "#### Method 1: SQL Statement"
   ]
  },
  {
   "cell_type": "code",
   "execution_count": 11,
   "metadata": {},
   "outputs": [
    {
     "data": {
      "text/html": [
       "<div>\n",
       "<style scoped>\n",
       "    .dataframe tbody tr th:only-of-type {\n",
       "        vertical-align: middle;\n",
       "    }\n",
       "\n",
       "    .dataframe tbody tr th {\n",
       "        vertical-align: top;\n",
       "    }\n",
       "\n",
       "    .dataframe thead th {\n",
       "        text-align: right;\n",
       "    }\n",
       "</style>\n",
       "<table border=\"1\" class=\"dataframe\">\n",
       "  <thead>\n",
       "    <tr style=\"text-align: right;\">\n",
       "      <th></th>\n",
       "      <th>category</th>\n",
       "      <th>canceled</th>\n",
       "      <th>failed</th>\n",
       "      <th>live</th>\n",
       "      <th>successful</th>\n",
       "      <th>grand_total</th>\n",
       "    </tr>\n",
       "  </thead>\n",
       "  <tbody>\n",
       "  </tbody>\n",
       "</table>\n",
       "</div>"
      ],
      "text/plain": [
       "Empty DataFrame\n",
       "Columns: [category, canceled, failed, live, successful, grand_total]\n",
       "Index: []"
      ]
     },
     "execution_count": 11,
     "metadata": {},
     "output_type": "execute_result"
    }
   ],
   "source": [
    "query = \"\"\"\n",
    "\t\tSELECT\n",
    "\t\t\tcategory,\n",
    "\t\t\tSUM(canceled) AS canceled,\n",
    "\t\t\tSUM(failed) AS failed,\n",
    "\t\t\tSUM(live) AS live,\n",
    "\t\t\tSUM(successful) AS successful,\n",
    "\t\t\tCOUNT(category) AS grand_total\n",
    "\t\tFROM\n",
    "\t\t\t(\n",
    "\t\t\tSELECT\n",
    "\t\t\t\tcat.category,\n",
    "\t\t\t\tCASE WHEN camp.outcome = 'canceled' then 1 else 0 END AS canceled,\n",
    "\t\t\t\tCASE WHEN camp.outcome = 'failed' then 1 else 0 END AS failed,\n",
    "\t\t\t\tCASE WHEN camp.outcome = 'live' then 1 else 0 END AS live,\n",
    "\t\t\t\tCASE WHEN camp.outcome = 'successful' then 1 else 0 END AS successful\n",
    "\t\t\tFROM\n",
    "\t\t\t\tpublic.campaign camp\n",
    "\t\t\tINNER JOIN public.category cat\n",
    "\t\t\t\tON cat.category_id = camp.category_id\n",
    "\t\t\t)\n",
    "\t\tGROUP BY\n",
    "\t\t\tcategory\n",
    "\t\t;\n",
    "\t\t\"\"\"\n",
    "\n",
    "count_of_categories_by_outcome_sql_df = pd.read_sql(text(query), con=engine)\n",
    "count_of_categories_by_outcome_sql_df.head()"
   ]
  },
  {
   "cell_type": "markdown",
   "metadata": {},
   "source": [
    "Method 2: ORM"
   ]
  },
  {
   "cell_type": "code",
   "execution_count": 12,
   "metadata": {},
   "outputs": [
    {
     "data": {
      "text/html": [
       "<div>\n",
       "<style scoped>\n",
       "    .dataframe tbody tr th:only-of-type {\n",
       "        vertical-align: middle;\n",
       "    }\n",
       "\n",
       "    .dataframe tbody tr th {\n",
       "        vertical-align: top;\n",
       "    }\n",
       "\n",
       "    .dataframe thead th {\n",
       "        text-align: right;\n",
       "    }\n",
       "</style>\n",
       "<table border=\"1\" class=\"dataframe\">\n",
       "  <thead>\n",
       "    <tr style=\"text-align: right;\">\n",
       "      <th></th>\n",
       "      <th>category</th>\n",
       "      <th>canceled</th>\n",
       "      <th>failed</th>\n",
       "      <th>live</th>\n",
       "      <th>successful</th>\n",
       "      <th>grand_total</th>\n",
       "    </tr>\n",
       "  </thead>\n",
       "  <tbody>\n",
       "  </tbody>\n",
       "</table>\n",
       "</div>"
      ],
      "text/plain": [
       "Empty DataFrame\n",
       "Columns: [category, canceled, failed, live, successful, grand_total]\n",
       "Index: []"
      ]
     },
     "execution_count": 12,
     "metadata": {},
     "output_type": "execute_result"
    }
   ],
   "source": [
    "# Case reference: https://stackoverflow.com/questions/11258770/case-when-with-orm-sqlalchemy\n",
    "# Case reference: https://docs.sqlalchemy.org/en/14/core/sqlelement.html#sqlalchemy\n",
    "results = session.query(\n",
    "    Category.category,\n",
    "    func.sum(case((Campaign.outcome == 'canceled', 1), else_=0)).label('canceled'),\n",
    "    func.sum(case((Campaign.outcome == 'failed', 1), else_=0)).label('failed'),\n",
    "    func.sum(case((Campaign.outcome == 'live', 1), else_=0)).label('live'),\n",
    "    func.sum(case((Campaign.outcome == 'successful', 1), else_=0)).label('successful'),\n",
    "    func.count(Category.category).label('grand_total')\n",
    ").join(\n",
    "    Campaign, Category.category_id == Campaign.category_id\n",
    ").group_by(\n",
    "    Category.category\n",
    ").all()\n",
    "\n",
    "# Convert results to a pandas DataFrame\n",
    "count_of_categories_by_outcome_orm_df = pd.DataFrame(results, columns=[\n",
    "    'category', 'canceled', 'failed', 'live', 'successful', 'grand_total'\n",
    "])\n",
    "\n",
    "# Display the DataFrame\n",
    "count_of_categories_by_outcome_orm_df.head()"
   ]
  },
  {
   "cell_type": "markdown",
   "metadata": {},
   "source": [
    "## Count of Subcategories by Outcome"
   ]
  },
  {
   "cell_type": "markdown",
   "metadata": {},
   "source": [
    "#### Method 1: SQL Statement"
   ]
  },
  {
   "cell_type": "code",
   "execution_count": 13,
   "metadata": {},
   "outputs": [
    {
     "data": {
      "text/html": [
       "<div>\n",
       "<style scoped>\n",
       "    .dataframe tbody tr th:only-of-type {\n",
       "        vertical-align: middle;\n",
       "    }\n",
       "\n",
       "    .dataframe tbody tr th {\n",
       "        vertical-align: top;\n",
       "    }\n",
       "\n",
       "    .dataframe thead th {\n",
       "        text-align: right;\n",
       "    }\n",
       "</style>\n",
       "<table border=\"1\" class=\"dataframe\">\n",
       "  <thead>\n",
       "    <tr style=\"text-align: right;\">\n",
       "      <th></th>\n",
       "      <th>subcategory</th>\n",
       "      <th>canceled</th>\n",
       "      <th>failed</th>\n",
       "      <th>live</th>\n",
       "      <th>successful</th>\n",
       "      <th>grand_total</th>\n",
       "    </tr>\n",
       "  </thead>\n",
       "  <tbody>\n",
       "  </tbody>\n",
       "</table>\n",
       "</div>"
      ],
      "text/plain": [
       "Empty DataFrame\n",
       "Columns: [subcategory, canceled, failed, live, successful, grand_total]\n",
       "Index: []"
      ]
     },
     "execution_count": 13,
     "metadata": {},
     "output_type": "execute_result"
    }
   ],
   "source": [
    "query = \"\"\"\n",
    "\t\tSELECT\n",
    "\t\t\tsubcategory,\n",
    "\t\t\tSUM(canceled) AS canceled,\n",
    "\t\t\tSUM(failed) AS failed,\n",
    "\t\t\tSUM(live) AS live,\n",
    "\t\t\tSUM(successful) AS successful,\n",
    "\t\t\tCOUNT(subcategory) AS grand_total\n",
    "\t\tFROM\n",
    "\t\t\t(\n",
    "\t\t\tSELECT\n",
    "\t\t\t\tsub.subcategory,\n",
    "\t\t\t\tCASE WHEN camp.outcome = 'canceled' then 1 else 0 END AS canceled,\n",
    "\t\t\t\tCASE WHEN camp.outcome = 'failed' then 1 else 0 END AS failed,\n",
    "\t\t\t\tCASE WHEN camp.outcome = 'live' then 1 else 0 END AS live,\n",
    "\t\t\t\tCASE WHEN camp.outcome = 'successful' then 1 else 0 END AS successful\n",
    "\t\t\tFROM\n",
    "\t\t\t\tpublic.campaign camp\n",
    "\t\t\tINNER JOIN public.subcategory sub\n",
    "\t\t\t\tON sub.subcategory_id = camp.subcategory_id\n",
    "\t\t\t)\n",
    "\t\tGROUP BY\n",
    "\t\t\tsubcategory\n",
    "\t\t;\n",
    "\t\t\"\"\"\n",
    "\n",
    "count_of_subcategories_by_outcome_sql_df = pd.read_sql(text(query), con=engine)\n",
    "count_of_subcategories_by_outcome_sql_df.head()"
   ]
  },
  {
   "cell_type": "markdown",
   "metadata": {},
   "source": [
    "#### Method 2: ORM"
   ]
  },
  {
   "cell_type": "code",
   "execution_count": 14,
   "metadata": {},
   "outputs": [
    {
     "data": {
      "text/html": [
       "<div>\n",
       "<style scoped>\n",
       "    .dataframe tbody tr th:only-of-type {\n",
       "        vertical-align: middle;\n",
       "    }\n",
       "\n",
       "    .dataframe tbody tr th {\n",
       "        vertical-align: top;\n",
       "    }\n",
       "\n",
       "    .dataframe thead th {\n",
       "        text-align: right;\n",
       "    }\n",
       "</style>\n",
       "<table border=\"1\" class=\"dataframe\">\n",
       "  <thead>\n",
       "    <tr style=\"text-align: right;\">\n",
       "      <th></th>\n",
       "      <th>subcategory</th>\n",
       "      <th>canceled</th>\n",
       "      <th>failed</th>\n",
       "      <th>live</th>\n",
       "      <th>successful</th>\n",
       "      <th>grand_total</th>\n",
       "    </tr>\n",
       "  </thead>\n",
       "  <tbody>\n",
       "  </tbody>\n",
       "</table>\n",
       "</div>"
      ],
      "text/plain": [
       "Empty DataFrame\n",
       "Columns: [subcategory, canceled, failed, live, successful, grand_total]\n",
       "Index: []"
      ]
     },
     "execution_count": 14,
     "metadata": {},
     "output_type": "execute_result"
    }
   ],
   "source": [
    "# Case reference: https://stackoverflow.com/questions/11258770/case-when-with-orm-sqlalchemy\n",
    "# Case reference: https://docs.sqlalchemy.org/en/14/core/sqlelement.html#sqlalchemy\n",
    "results = session.query(\n",
    "    Subcategory.subcategory,\n",
    "    func.sum(case((Campaign.outcome == 'canceled', 1), else_=0)).label('canceled'),\n",
    "    func.sum(case((Campaign.outcome == 'failed', 1), else_=0)).label('failed'),\n",
    "    func.sum(case((Campaign.outcome == 'live', 1), else_=0)).label('live'),\n",
    "    func.sum(case((Campaign.outcome == 'successful', 1), else_=0)).label('successful'),\n",
    "    func.count(Subcategory.subcategory).label('grand_total')\n",
    ").join(\n",
    "    Campaign, Subcategory.subcategory_id == Campaign.subcategory_id\n",
    ").group_by(\n",
    "    Subcategory.subcategory\n",
    ").all()\n",
    "\n",
    "# Convert results to a pandas DataFrame\n",
    "count_of_subcategories_by_outcome_orm_df = pd.DataFrame(results, columns=[\n",
    "    'subcategory', 'canceled', 'failed', 'live', 'successful', 'grand_total'\n",
    "])\n",
    "\n",
    "# Display the DataFrame\n",
    "count_of_subcategories_by_outcome_orm_df.head()"
   ]
  },
  {
   "cell_type": "markdown",
   "metadata": {},
   "source": [
    "## Percentage of Goal by Country"
   ]
  },
  {
   "cell_type": "markdown",
   "metadata": {},
   "source": [
    "#### Method 1: SQL Statement"
   ]
  },
  {
   "cell_type": "code",
   "execution_count": 15,
   "metadata": {},
   "outputs": [
    {
     "data": {
      "text/html": [
       "<div>\n",
       "<style scoped>\n",
       "    .dataframe tbody tr th:only-of-type {\n",
       "        vertical-align: middle;\n",
       "    }\n",
       "\n",
       "    .dataframe tbody tr th {\n",
       "        vertical-align: top;\n",
       "    }\n",
       "\n",
       "    .dataframe thead th {\n",
       "        text-align: right;\n",
       "    }\n",
       "</style>\n",
       "<table border=\"1\" class=\"dataframe\">\n",
       "  <thead>\n",
       "    <tr style=\"text-align: right;\">\n",
       "      <th></th>\n",
       "      <th>country</th>\n",
       "      <th>goalreached</th>\n",
       "      <th>ninetypercent_goalreached</th>\n",
       "      <th>eightypercent_goalreached</th>\n",
       "      <th>seventypercent_goalreached</th>\n",
       "      <th>sixtypercent_goalreached</th>\n",
       "      <th>fiftypercent_goalreached</th>\n",
       "      <th>lessthanfiftypercent_goalreached</th>\n",
       "      <th>grand_total</th>\n",
       "    </tr>\n",
       "  </thead>\n",
       "  <tbody>\n",
       "  </tbody>\n",
       "</table>\n",
       "</div>"
      ],
      "text/plain": [
       "Empty DataFrame\n",
       "Columns: [country, goalreached, ninetypercent_goalreached, eightypercent_goalreached, seventypercent_goalreached, sixtypercent_goalreached, fiftypercent_goalreached, lessthanfiftypercent_goalreached, grand_total]\n",
       "Index: []"
      ]
     },
     "execution_count": 15,
     "metadata": {},
     "output_type": "execute_result"
    }
   ],
   "source": [
    "query = \"\"\"\n",
    "\t\tSELECT\n",
    "\t\t\tcountry,\n",
    "\t\t\tSUM(perfect) AS goalreached,\n",
    "\t\t\tSUM(ninety) AS ninetypercent_goalreached,\n",
    "\t\t\tSUM(eighty) AS eightypercent_goalreached,\n",
    "\t\t\tSUM(seventy) AS seventypercent_goalreached,\n",
    "\t\t\tSUM(sixty) AS sixtypercent_goalreached,\n",
    "\t\t\tSUM(fifty) AS fiftypercent_goalreached,\n",
    "\t\t\tSUM(fail) AS lessthanfiftypercent_goalreached,\n",
    "\t\t\tCOUNT(Country) AS grand_total\n",
    "\t\tFROM\n",
    "\t\t\t(\n",
    "\t\t\tSELECT\n",
    "\t\t\t\tcountry,\n",
    "\t\t\t\tCASE WHEN pledged >= goal then 1 else 0 END AS perfect,\n",
    "\t\t\t\tCASE WHEN pledged >= goal * 0.9 AND pledged < goal then 1 else 0 END AS ninety,\n",
    "\t\t\t\tCASE WHEN pledged >= goal * 0.8 AND pledged < goal * 0.9 then 1 else 0 END AS eighty,\n",
    "\t\t\t\tCASE WHEN pledged >= goal * 0.7 AND pledged < goal * 0.8 then 1 else 0 END AS seventy,\n",
    "\t\t\t\tCASE WHEN pledged >= goal * 0.6 AND pledged < goal * 0.7 then 1 else 0 END AS sixty,\n",
    "\t\t\t\tCASE WHEN pledged >= goal * 0.5 AND pledged < goal * 0.6 then 1 else 0 END AS fifty,\n",
    "\t\t\t\tCASE WHEN pledged < goal * 0.5 then 1 else 0 END AS fail\n",
    "\t\t\tFROM\n",
    "\t\t\t\tcampaign\n",
    "\t\t\t)\n",
    "\t\tGROUP BY\n",
    "\t\t\tcountry\n",
    "\t\t;\n",
    "\t\t\"\"\"\n",
    "\n",
    "percentage_goal_by_country_sql_df = pd.read_sql(text(query), con=engine)\n",
    "percentage_goal_by_country_sql_df.head()"
   ]
  },
  {
   "cell_type": "markdown",
   "metadata": {},
   "source": [
    "#### Method 2: ORM"
   ]
  },
  {
   "cell_type": "code",
   "execution_count": 16,
   "metadata": {},
   "outputs": [
    {
     "data": {
      "text/html": [
       "<div>\n",
       "<style scoped>\n",
       "    .dataframe tbody tr th:only-of-type {\n",
       "        vertical-align: middle;\n",
       "    }\n",
       "\n",
       "    .dataframe tbody tr th {\n",
       "        vertical-align: top;\n",
       "    }\n",
       "\n",
       "    .dataframe thead th {\n",
       "        text-align: right;\n",
       "    }\n",
       "</style>\n",
       "<table border=\"1\" class=\"dataframe\">\n",
       "  <thead>\n",
       "    <tr style=\"text-align: right;\">\n",
       "      <th></th>\n",
       "      <th>country</th>\n",
       "      <th>goalreached</th>\n",
       "      <th>ninetypercent_goalreached</th>\n",
       "      <th>eightypercent_goalreached</th>\n",
       "      <th>seventypercent_goalreached</th>\n",
       "      <th>sixtypercent_goalreached</th>\n",
       "      <th>fiftypercent_goalreached</th>\n",
       "      <th>lessthanfiftypercent_goalreached</th>\n",
       "      <th>grand_total</th>\n",
       "    </tr>\n",
       "  </thead>\n",
       "  <tbody>\n",
       "  </tbody>\n",
       "</table>\n",
       "</div>"
      ],
      "text/plain": [
       "Empty DataFrame\n",
       "Columns: [country, goalreached, ninetypercent_goalreached, eightypercent_goalreached, seventypercent_goalreached, sixtypercent_goalreached, fiftypercent_goalreached, lessthanfiftypercent_goalreached, grand_total]\n",
       "Index: []"
      ]
     },
     "execution_count": 16,
     "metadata": {},
     "output_type": "execute_result"
    }
   ],
   "source": [
    "results = session.query(\n",
    "    Campaign.country,\n",
    "    func.sum(case((Campaign.pledged >= Campaign.goal, 1), else_=0)).label('goalreached'),\n",
    "    func.sum(case(((Campaign.pledged >= Campaign.goal * 0.9) & (Campaign.pledged < Campaign.goal), 1), else_=0)).label('ninetypercent_goalreached'),\n",
    "    func.sum(case(((Campaign.pledged >= Campaign.goal * 0.8) & (Campaign.pledged < Campaign.goal * 0.9), 1), else_=0)).label('eightypercent_goalreached'),\n",
    "    func.sum(case(((Campaign.pledged >= Campaign.goal * 0.7) & (Campaign.pledged < Campaign.goal * 0.8), 1), else_=0)).label('seventypercent_goalreached'),\n",
    "    func.sum(case(((Campaign.pledged >= Campaign.goal * 0.6) & (Campaign.pledged < Campaign.goal * 0.7), 1), else_=0)).label('sixtypercent_goalreached'),\n",
    "    func.sum(case(((Campaign.pledged >= Campaign.goal * 0.5) & (Campaign.pledged < Campaign.goal * 0.6), 1), else_=0)).label('fiftypercent_goalreached'),\n",
    "    func.sum(case((Campaign.pledged < Campaign.goal * 0.5, 1), else_=0)).label('lessthanfiftypercent_goalreached'),\n",
    "    func.count(Campaign.country).label('grand_total')\n",
    ").group_by(\n",
    "    Campaign.country\n",
    ").all()\n",
    "\n",
    "# Convert results to a pandas DataFrame\n",
    "percentage_goal_by_country_orm_df = pd.DataFrame(results, columns=[\n",
    "    'country', 'goalreached', 'ninetypercent_goalreached', 'eightypercent_goalreached', 'seventypercent_goalreached', \n",
    "    'sixtypercent_goalreached', 'fiftypercent_goalreached', 'lessthanfiftypercent_goalreached', 'grand_total'\n",
    "])\n",
    "\n",
    "# Display the DataFrame\n",
    "percentage_goal_by_country_orm_df.head()"
   ]
  },
  {
   "cell_type": "markdown",
   "metadata": {},
   "source": [
    "## Data Analysis"
   ]
  },
  {
   "cell_type": "markdown",
   "metadata": {},
   "source": [
    "#### Pledge Amounts"
   ]
  },
  {
   "cell_type": "code",
   "execution_count": 17,
   "metadata": {},
   "outputs": [
    {
     "data": {
      "image/png": "[encoded data removed]",
      "text/plain": [
       "<Figure size 1200x800 with 1 Axes>"
      ]
     },
     "metadata": {},
     "output_type": "display_data"
    }
   ],
   "source": [
    "# Set the style and color palette of the visualization\n",
    "sns.set(style=\"whitegrid\", palette=\"pastel\")\n",
    "\n",
    "# Create the histogram\n",
    "plt.figure(figsize=(12, 8))\n",
    "hist_plot = sns.histplot(full_data_sql_df['pledged'], bins=30, kde=True, color='royalblue', alpha=0.7)\n",
    "\n",
    "# Add title and labels with improved fonts\n",
    "plt.title('Distribution of Pledged Amounts', fontsize=16, fontweight='bold')\n",
    "plt.xlabel('Pledged Amount', fontsize=14)\n",
    "plt.ylabel('Frequency', fontsize=14)\n",
    "\n",
    "# Add grid lines for better readability\n",
    "plt.grid(True, linestyle='--', alpha=0.5)\n",
    "\n",
    "# Add annotations to show the mean and median\n",
    "mean_value = full_data_sql_df['pledged'].mean()\n",
    "median_value = full_data_sql_df['pledged'].median()\n",
    "plt.axvline(mean_value, color='red', linestyle='dashed', linewidth=1.5, label=f'Mean: ${mean_value:,.0f}')\n",
    "plt.axvline(median_value, color='green', linestyle='dashed', linewidth=1.5, label=f'Median: ${median_value:,.0f}')\n",
    "\n",
    "# Add a legend\n",
    "plt.legend()\n",
    "\n",
    "# Show the plot\n",
    "plt.show()"
   ]
  },
  {
   "cell_type": "markdown",
   "metadata": {},
   "source": [
    "#### Backer by country"
   ]
  },
  {
   "cell_type": "code",
   "execution_count": 18,
   "metadata": {},
   "outputs": [
    {
     "data": {
      "image/png": "[encoded data removed]",
      "text/plain": [
       "<Figure size 800x800 with 1 Axes>"
      ]
     },
     "metadata": {},
     "output_type": "display_data"
    }
   ],
   "source": [
    "# Donut Chart: Distribution of backers across countries\n",
    "backers_by_country_df = full_data_sql_df.groupby('country')['backers_count'].sum().reset_index()\n",
    "\n",
    "# Define a color palette\n",
    "colors = sns.color_palette('pastel')[0:len(backers_by_country_df)]\n",
    "\n",
    "plt.figure(figsize=(8, 8))\n",
    "plt.pie(backers_by_country_df['backers_count'], \n",
    "        labels=backers_by_country_df['country'], \n",
    "        autopct='%1.1f%%', \n",
    "        startangle=140, \n",
    "        colors=colors,\n",
    "        textprops={'fontsize': 14}, \n",
    "        wedgeprops=dict(width=0.4, edgecolor='w'))\n",
    "\n",
    "# Draw a white circle at the center\n",
    "centre_circle = plt.Circle((0,0),0.70,fc='white')\n",
    "fig = plt.gcf()\n",
    "fig.gca().add_artist(centre_circle)\n",
    "\n",
    "# Title\n",
    "plt.title('Distribution of Backers by Country', fontsize=16)\n",
    "plt.show()"
   ]
  },
  {
   "cell_type": "markdown",
   "metadata": {},
   "source": [
    "#### Pledged by category"
   ]
  },
  {
   "cell_type": "code",
   "execution_count": 19,
   "metadata": {},
   "outputs": [
    {
     "ename": "ValueError",
     "evalue": "min() arg is an empty sequence",
     "output_type": "error",
     "traceback": [
      "\u001b[1;31m---------------------------------------------------------------------------\u001b[0m",
      "\u001b[1;31mValueError\u001b[0m                                Traceback (most recent call last)",
      "Cell \u001b[1;32mIn[19], line 6\u001b[0m\n\u001b[0;32m      3\u001b[0m plt\u001b[38;5;241m.\u001b[39mfigure(figsize\u001b[38;5;241m=\u001b[39m(\u001b[38;5;241m14\u001b[39m, \u001b[38;5;241m8\u001b[39m))\n\u001b[0;32m      5\u001b[0m \u001b[38;5;66;03m# Create the violin plot\u001b[39;00m\n\u001b[1;32m----> 6\u001b[0m \u001b[43msns\u001b[49m\u001b[38;5;241;43m.\u001b[39;49m\u001b[43mviolinplot\u001b[49m\u001b[43m(\u001b[49m\u001b[43mx\u001b[49m\u001b[38;5;241;43m=\u001b[39;49m\u001b[38;5;124;43m'\u001b[39;49m\u001b[38;5;124;43mcategory\u001b[39;49m\u001b[38;5;124;43m'\u001b[39;49m\u001b[43m,\u001b[49m\u001b[43m \u001b[49m\u001b[43my\u001b[49m\u001b[38;5;241;43m=\u001b[39;49m\u001b[38;5;124;43m'\u001b[39;49m\u001b[38;5;124;43mpledged\u001b[39;49m\u001b[38;5;124;43m'\u001b[39;49m\u001b[43m,\u001b[49m\u001b[43m \u001b[49m\u001b[43mdata\u001b[49m\u001b[38;5;241;43m=\u001b[39;49m\u001b[43mfull_data_sql_df\u001b[49m\u001b[43m,\u001b[49m\u001b[43m \u001b[49m\u001b[43minner\u001b[49m\u001b[38;5;241;43m=\u001b[39;49m\u001b[38;5;124;43m'\u001b[39;49m\u001b[38;5;124;43mquartile\u001b[39;49m\u001b[38;5;124;43m'\u001b[39;49m\u001b[43m,\u001b[49m\u001b[43m \u001b[49m\u001b[43mlinewidth\u001b[49m\u001b[38;5;241;43m=\u001b[39;49m\u001b[38;5;241;43m1.5\u001b[39;49m\u001b[43m)\u001b[49m\n\u001b[0;32m      8\u001b[0m \u001b[38;5;66;03m# Title and labels\u001b[39;00m\n\u001b[0;32m      9\u001b[0m plt\u001b[38;5;241m.\u001b[39mtitle(\u001b[38;5;124m'\u001b[39m\u001b[38;5;124mPledged Amount by Category\u001b[39m\u001b[38;5;124m'\u001b[39m, fontsize\u001b[38;5;241m=\u001b[39m\u001b[38;5;241m16\u001b[39m)\n",
      "File \u001b[1;32m~\\anaconda3\\envs\\dev\\lib\\site-packages\\seaborn\\categorical.py:2305\u001b[0m, in \u001b[0;36mviolinplot\u001b[1;34m(data, x, y, hue, order, hue_order, bw, cut, scale, scale_hue, gridsize, width, inner, split, dodge, orient, linewidth, color, palette, saturation, ax, **kwargs)\u001b[0m\n\u001b[0;32m   2297\u001b[0m \u001b[38;5;28;01mdef\u001b[39;00m \u001b[38;5;21mviolinplot\u001b[39m(\n\u001b[0;32m   2298\u001b[0m     data\u001b[38;5;241m=\u001b[39m\u001b[38;5;28;01mNone\u001b[39;00m, \u001b[38;5;241m*\u001b[39m, x\u001b[38;5;241m=\u001b[39m\u001b[38;5;28;01mNone\u001b[39;00m, y\u001b[38;5;241m=\u001b[39m\u001b[38;5;28;01mNone\u001b[39;00m, hue\u001b[38;5;241m=\u001b[39m\u001b[38;5;28;01mNone\u001b[39;00m, order\u001b[38;5;241m=\u001b[39m\u001b[38;5;28;01mNone\u001b[39;00m, hue_order\u001b[38;5;241m=\u001b[39m\u001b[38;5;28;01mNone\u001b[39;00m,\n\u001b[0;32m   2299\u001b[0m     bw\u001b[38;5;241m=\u001b[39m\u001b[38;5;124m\"\u001b[39m\u001b[38;5;124mscott\u001b[39m\u001b[38;5;124m\"\u001b[39m, cut\u001b[38;5;241m=\u001b[39m\u001b[38;5;241m2\u001b[39m, scale\u001b[38;5;241m=\u001b[39m\u001b[38;5;124m\"\u001b[39m\u001b[38;5;124marea\u001b[39m\u001b[38;5;124m\"\u001b[39m, scale_hue\u001b[38;5;241m=\u001b[39m\u001b[38;5;28;01mTrue\u001b[39;00m, gridsize\u001b[38;5;241m=\u001b[39m\u001b[38;5;241m100\u001b[39m,\n\u001b[1;32m   (...)\u001b[0m\n\u001b[0;32m   2302\u001b[0m     ax\u001b[38;5;241m=\u001b[39m\u001b[38;5;28;01mNone\u001b[39;00m, \u001b[38;5;241m*\u001b[39m\u001b[38;5;241m*\u001b[39mkwargs,\n\u001b[0;32m   2303\u001b[0m ):\n\u001b[1;32m-> 2305\u001b[0m     plotter \u001b[38;5;241m=\u001b[39m \u001b[43m_ViolinPlotter\u001b[49m\u001b[43m(\u001b[49m\u001b[43mx\u001b[49m\u001b[43m,\u001b[49m\u001b[43m \u001b[49m\u001b[43my\u001b[49m\u001b[43m,\u001b[49m\u001b[43m \u001b[49m\u001b[43mhue\u001b[49m\u001b[43m,\u001b[49m\u001b[43m \u001b[49m\u001b[43mdata\u001b[49m\u001b[43m,\u001b[49m\u001b[43m \u001b[49m\u001b[43morder\u001b[49m\u001b[43m,\u001b[49m\u001b[43m \u001b[49m\u001b[43mhue_order\u001b[49m\u001b[43m,\u001b[49m\n\u001b[0;32m   2306\u001b[0m \u001b[43m                             \u001b[49m\u001b[43mbw\u001b[49m\u001b[43m,\u001b[49m\u001b[43m \u001b[49m\u001b[43mcut\u001b[49m\u001b[43m,\u001b[49m\u001b[43m \u001b[49m\u001b[43mscale\u001b[49m\u001b[43m,\u001b[49m\u001b[43m \u001b[49m\u001b[43mscale_hue\u001b[49m\u001b[43m,\u001b[49m\u001b[43m \u001b[49m\u001b[43mgridsize\u001b[49m\u001b[43m,\u001b[49m\n\u001b[0;32m   2307\u001b[0m \u001b[43m                             \u001b[49m\u001b[43mwidth\u001b[49m\u001b[43m,\u001b[49m\u001b[43m \u001b[49m\u001b[43minner\u001b[49m\u001b[43m,\u001b[49m\u001b[43m \u001b[49m\u001b[43msplit\u001b[49m\u001b[43m,\u001b[49m\u001b[43m \u001b[49m\u001b[43mdodge\u001b[49m\u001b[43m,\u001b[49m\u001b[43m \u001b[49m\u001b[43morient\u001b[49m\u001b[43m,\u001b[49m\u001b[43m \u001b[49m\u001b[43mlinewidth\u001b[49m\u001b[43m,\u001b[49m\n\u001b[0;32m   2308\u001b[0m \u001b[43m                             \u001b[49m\u001b[43mcolor\u001b[49m\u001b[43m,\u001b[49m\u001b[43m \u001b[49m\u001b[43mpalette\u001b[49m\u001b[43m,\u001b[49m\u001b[43m \u001b[49m\u001b[43msaturation\u001b[49m\u001b[43m)\u001b[49m\n\u001b[0;32m   2310\u001b[0m     \u001b[38;5;28;01mif\u001b[39;00m ax \u001b[38;5;129;01mis\u001b[39;00m \u001b[38;5;28;01mNone\u001b[39;00m:\n\u001b[0;32m   2311\u001b[0m         ax \u001b[38;5;241m=\u001b[39m plt\u001b[38;5;241m.\u001b[39mgca()\n",
      "File \u001b[1;32m~\\anaconda3\\envs\\dev\\lib\\site-packages\\seaborn\\categorical.py:902\u001b[0m, in \u001b[0;36m_ViolinPlotter.__init__\u001b[1;34m(self, x, y, hue, data, order, hue_order, bw, cut, scale, scale_hue, gridsize, width, inner, split, dodge, orient, linewidth, color, palette, saturation)\u001b[0m\n\u001b[0;32m    896\u001b[0m \u001b[38;5;28;01mdef\u001b[39;00m \u001b[38;5;21m__init__\u001b[39m(\u001b[38;5;28mself\u001b[39m, x, y, hue, data, order, hue_order,\n\u001b[0;32m    897\u001b[0m              bw, cut, scale, scale_hue, gridsize,\n\u001b[0;32m    898\u001b[0m              width, inner, split, dodge, orient, linewidth,\n\u001b[0;32m    899\u001b[0m              color, palette, saturation):\n\u001b[0;32m    901\u001b[0m     \u001b[38;5;28mself\u001b[39m\u001b[38;5;241m.\u001b[39mestablish_variables(x, y, hue, data, orient, order, hue_order)\n\u001b[1;32m--> 902\u001b[0m     \u001b[38;5;28;43mself\u001b[39;49m\u001b[38;5;241;43m.\u001b[39;49m\u001b[43mestablish_colors\u001b[49m\u001b[43m(\u001b[49m\u001b[43mcolor\u001b[49m\u001b[43m,\u001b[49m\u001b[43m \u001b[49m\u001b[43mpalette\u001b[49m\u001b[43m,\u001b[49m\u001b[43m \u001b[49m\u001b[43msaturation\u001b[49m\u001b[43m)\u001b[49m\n\u001b[0;32m    903\u001b[0m     \u001b[38;5;28mself\u001b[39m\u001b[38;5;241m.\u001b[39mestimate_densities(bw, cut, scale, scale_hue, gridsize)\n\u001b[0;32m    905\u001b[0m     \u001b[38;5;28mself\u001b[39m\u001b[38;5;241m.\u001b[39mgridsize \u001b[38;5;241m=\u001b[39m gridsize\n",
      "File \u001b[1;32m~\\anaconda3\\envs\\dev\\lib\\site-packages\\seaborn\\categorical.py:707\u001b[0m, in \u001b[0;36m_CategoricalPlotter.establish_colors\u001b[1;34m(self, color, palette, saturation)\u001b[0m\n\u001b[0;32m    705\u001b[0m \u001b[38;5;66;03m# Determine the gray color to use for the lines framing the plot\u001b[39;00m\n\u001b[0;32m    706\u001b[0m light_vals \u001b[38;5;241m=\u001b[39m [rgb_to_hls(\u001b[38;5;241m*\u001b[39mc)[\u001b[38;5;241m1\u001b[39m] \u001b[38;5;28;01mfor\u001b[39;00m c \u001b[38;5;129;01min\u001b[39;00m rgb_colors]\n\u001b[1;32m--> 707\u001b[0m lum \u001b[38;5;241m=\u001b[39m \u001b[38;5;28;43mmin\u001b[39;49m\u001b[43m(\u001b[49m\u001b[43mlight_vals\u001b[49m\u001b[43m)\u001b[49m \u001b[38;5;241m*\u001b[39m \u001b[38;5;241m.6\u001b[39m\n\u001b[0;32m    708\u001b[0m gray \u001b[38;5;241m=\u001b[39m mpl\u001b[38;5;241m.\u001b[39mcolors\u001b[38;5;241m.\u001b[39mrgb2hex((lum, lum, lum))\n\u001b[0;32m    710\u001b[0m \u001b[38;5;66;03m# Assign object attributes\u001b[39;00m\n",
      "\u001b[1;31mValueError\u001b[0m: min() arg is an empty sequence"
     ]
    },
    {
     "data": {
      "text/plain": [
       "<Figure size 1400x800 with 0 Axes>"
      ]
     },
     "metadata": {},
     "output_type": "display_data"
    }
   ],
   "source": [
    "# Violin plot of goal vs pledged amount\n",
    "# Create the canvas\n",
    "plt.figure(figsize=(14, 8))\n",
    "\n",
    "# Create the violin plot\n",
    "sns.violinplot(x='category', y='pledged', data=full_data_sql_df, inner='quartile', linewidth=1.5)\n",
    "\n",
    "# Title and labels\n",
    "plt.title('Pledged Amount by Category', fontsize=16)\n",
    "plt.xlabel('Category', fontsize=14)\n",
    "plt.ylabel('Pledged', fontsize=14)\n",
    "plt.xticks(fontsize=12, rotation=90)\n",
    "plt.yticks(fontsize=12)\n",
    "plt.ylim(-100000, 300000)\n",
    "\n",
    "# Display grid lines\n",
    "plt.grid(axis='y', color=\"gray\", linestyle='--', alpha=0.7)\n",
    "\n",
    "plt.show()"
   ]
  },
  {
   "cell_type": "markdown",
   "metadata": {},
   "source": [
    "#### Goal vs Pledged"
   ]
  },
  {
   "cell_type": "code",
   "execution_count": null,
   "metadata": {},
   "outputs": [],
   "source": [
    "full_data_sql_df.info()"
   ]
  },
  {
   "cell_type": "code",
   "execution_count": null,
   "metadata": {},
   "outputs": [],
   "source": [
    "# Scatter Plot: Relationship between goal and pledged amount\n",
    "plt.figure(figsize=(12, 8))\n",
    "\n",
    "# Enhanced scatter plot\n",
    "sns.scatterplot(x='goal', y='pledged', data=full_data_sql_df, hue='country', palette='viridis', s=100, alpha=0.7, edgecolor='w', linewidth=0.5)\n",
    "\n",
    "# Title and labels with improved font sizes\n",
    "plt.title('Goal vs Pledged Amount', fontsize=18, weight='bold')\n",
    "plt.xlabel('Goal Amount', fontsize=14)\n",
    "plt.ylabel('Pledged Amount', fontsize=14)\n",
    "\n",
    "# Adding grid for better readability\n",
    "plt.grid(True, linestyle='--', alpha=0.6)\n",
    "\n",
    "# Legend customization\n",
    "plt.legend(title='Country', title_fontsize='13', fontsize='11', loc='upper left', bbox_to_anchor=(1, 1))\n",
    "\n",
    "# Background color\n",
    "plt.gca().set_facecolor('#f0f0f0')\n",
    "\n",
    "plt.show()"
   ]
  },
  {
   "cell_type": "markdown",
   "metadata": {},
   "source": [
    "#### Top 10 Campaigns"
   ]
  },
  {
   "cell_type": "code",
   "execution_count": null,
   "metadata": {},
   "outputs": [],
   "source": [
    "# Calculate percentage of goal reached\n",
    "top_campaigns = 10\n",
    "\n",
    "reached_goal_sql_df['percentage_reached'] = (reached_goal_sql_df['pledged'] / reached_goal_sql_df['goal']) * 100\n",
    "\n",
    "# Sort and select top 10 campaigns\n",
    "df_sorted = reached_goal_sql_df.sort_values(by='percentage_reached', ascending=False).head(top_campaigns)\n",
    "\n",
    "# Progress Chart: Percentage of Goal Reached for top 10 Campaigns\n",
    "plt.figure(figsize=(14, 8))\n",
    "sns.barplot(x='company_name', y='percentage_reached', data=df_sorted, palette='viridis')\n",
    "plt.axhline(y=100, color='r', linestyle='--', linewidth=2)\n",
    "plt.title('Top Campaigns: Percentage of Goal Reached', fontsize=16)\n",
    "plt.xlabel('Campaign', fontsize=14)\n",
    "plt.ylabel('Percentage of Goal Reached', fontsize=14)\n",
    "plt.xticks(rotation=45, ha='right')\n",
    "plt.show()"
   ]
  },
  {
   "cell_type": "markdown",
   "metadata": {},
   "source": [
    "#### Linear regression of goals vs pledged"
   ]
  },
  {
   "cell_type": "code",
   "execution_count": null,
   "metadata": {},
   "outputs": [],
   "source": [
    "# Set the style and color palette of the visualization\n",
    "sns.set(style=\"whitegrid\", palette=\"muted\")\n",
    "\n",
    "# Create the scatter plot\n",
    "plt.figure(figsize=(12, 8))\n",
    "scatter_plot = sns.scatterplot(x='goal', y='pledged', data=full_data_sql_df, alpha=0.5, s=100, color='royalblue', edgecolor=None)\n",
    "\n",
    "# Add a regression line for trend visualization\n",
    "sns.regplot(x='goal', y='pledged', data=full_data_sql_df, scatter=False, color='black', line_kws={\"linewidth\":2, \"linestyle\":\"solid\"})\n",
    "\n",
    "# Set the title and labels with improved fonts\n",
    "plt.title('Scatter Plot of Goals vs. Pledged Amounts', fontsize=16, fontweight='bold')\n",
    "plt.xlabel('Funding Goal', fontsize=14)\n",
    "plt.ylabel('Pledged Amount', fontsize=14)\n",
    "\n",
    "# Add grid lines for better readability\n",
    "plt.grid(True, linestyle='--', alpha=0.6)\n",
    "\n",
    "# Add annotations for mean values\n",
    "mean_goal = full_data_sql_df['goal'].mean()\n",
    "mean_pledged = full_data_sql_df['pledged'].mean()\n",
    "plt.axhline(mean_pledged, color='green', linestyle='dashed', linewidth=1.5, label=f'Mean Pledged: ${mean_pledged:,.0f}')\n",
    "plt.axvline(mean_goal, color='firebrick', linestyle='solid', linewidth=1.5, label=f'Mean Goal: ${mean_goal:,.0f}')\n",
    "\n",
    "# Add a legend\n",
    "plt.legend()\n",
    "\n",
    "# Show the plot\n",
    "plt.show()\n"
   ]
  },
  {
   "cell_type": "code",
   "execution_count": null,
   "metadata": {},
   "outputs": [],
   "source": []
  }
 ],
 "metadata": {
  "kernelspec": {
   "display_name": "Python 3 (ipykernel)",
   "language": "python",
   "name": "python3"
  },
  "language_info": {
   "codemirror_mode": {
    "name": "ipython",
    "version": 3
   },
   "file_extension": ".py",
   "mimetype": "text/x-python",
   "name": "python",
   "nbconvert_exporter": "python",
   "pygments_lexer": "ipython3",
   "version": "3.10.14"
  }
 },
 "nbformat": 4,
 "nbformat_minor": 4
}
